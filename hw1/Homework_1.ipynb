{
 "cells": [
  {
   "cell_type": "markdown",
   "metadata": {},
   "source": [
    "---\n",
    "title: DSAN 63000 Homework 1\n",
    "author: Brian Kwon\n",
    "format:\n",
    "    html:\n",
    "        embed-resources: true\n",
    "---"
   ]
  },
  {
   "cell_type": "markdown",
   "metadata": {},
   "source": [
    "# Problem 1"
   ]
  },
  {
   "cell_type": "markdown",
   "metadata": {},
   "source": [
    "a. Find the name of each employee who works for “BigBank”.\n",
    "\n",
    "$\\Pi_{person\\_name}(\\sigma_{company\\_name=\"Big Bank\"}(employee \\bowtie works))$\n",
    "\n"
   ]
  },
  {
   "cell_type": "markdown",
   "metadata": {},
   "source": [
    "b. Find the name and city of residence of each employee who works for “BigBank”.\n",
    "\n",
    "$\\Pi_{person\\_name, city}(\\sigma_{company\\_name=\"Big Bank\"}(employee\\bowtie works))$\n",
    "\n"
   ]
  },
  {
   "cell_type": "markdown",
   "metadata": {},
   "source": [
    "c. Find the name, street address, and city of residence of each employee who works for\n",
    "“BigBank” and earns more than $10000.\n",
    "\n",
    "$\\Pi_{person\\_ name,street,city}(\\sigma_{copmpany\\_ name=“Big Bank\"\\wedge salary > 10000}(employee \\bowtie works))$"
   ]
  },
  {
   "cell_type": "markdown",
   "metadata": {},
   "source": [
    "d. Find the name of each employee in this database who lives in the same city as the company for\n",
    "which she or he works.\n",
    "\n",
    "$\\Pi_{person\\_ name}(\\sigma_{employee.city=company.city}(employee \\bowtie works \\bowtie company ))$"
   ]
  },
  {
   "cell_type": "markdown",
   "metadata": {},
   "source": [
    "# Problem 2"
   ]
  },
  {
   "cell_type": "markdown",
   "metadata": {},
   "source": [
    "a. Find each loan number with a loan amount greater than $10000\n",
    "\n",
    "$\\Pi_{loan\\_number}(\\sigma_{amount>10000}(loan))$"
   ]
  },
  {
   "cell_type": "markdown",
   "metadata": {},
   "source": [
    "b. Find the ID of each depositor who has an account with a balance greater than $6000.\n",
    "\n",
    "$\\Pi_{ID}(\\sigma_{balance > 6000}(depositor\\bowtie account))$"
   ]
  },
  {
   "cell_type": "markdown",
   "metadata": {},
   "source": [
    "c. Find the ID of each depositor who has an account with a balance greater than $6000 at the\n",
    "“Uptown” branch.\n",
    "\n",
    "$\\Pi_{ID}(\\sigma_{balance > 6000 \\wedge branch\\_ name = \"Uptown\"}(depositor\\bowtie account))$"
   ]
  },
  {
   "cell_type": "markdown",
   "metadata": {},
   "source": [
    "# Problem 3"
   ]
  },
  {
   "cell_type": "markdown",
   "metadata": {},
   "source": [
    "a. Find the ID and name of each instructor in the Physics department.\n",
    "\n",
    "$\\Pi_{ID,name}(\\sigma_{dept\\_name='Physics'}(instructors))$\n"
   ]
  },
  {
   "cell_type": "markdown",
   "metadata": {},
   "source": [
    "b. Find the ID and name of each instructor in a department located in the building “Watson”. \n",
    "\n",
    "$\\Pi_{ID,name}(\\sigma_{building='Watson'}(instructors \\bowtie department))$\n"
   ]
  },
  {
   "cell_type": "markdown",
   "metadata": {},
   "source": [
    "c. Find the ID and name of each student who has taken at least one course in the “Comp. Sci.”\n",
    "department.\n"
   ]
  },
  {
   "cell_type": "markdown",
   "metadata": {},
   "source": [
    "$\\Pi_{student.ID,student.name}(\\sigma_{dept\\_name=\"Comp. Sci\"}(student \\bowtie section \\bowtie course))$"
   ]
  },
  {
   "cell_type": "markdown",
   "metadata": {},
   "source": [
    "d. Find the ID and name of each student who has taken at least one course section in the year\n",
    "2018.\n",
    "\n",
    "$\\Pi_{student.ID,student.name}(\\sigma_{year=2018}(student \\bowtie takes \\bowtie section))$"
   ]
  },
  {
   "cell_type": "markdown",
   "metadata": {},
   "source": [
    "e. Find the ID and name of each student who has not taken any course section in the year 2018.\n",
    "\n",
    "$\\Pi_{student.ID,student.name}(student \\bowtie section)$ - $\\Pi_{student.ID,student.name}(\\sigma_{year=2018}(student \\bowtie section))$"
   ]
  },
  {
   "cell_type": "markdown",
   "metadata": {},
   "source": [
    "# Problem 4\n"
   ]
  },
  {
   "cell_type": "markdown",
   "metadata": {},
   "source": [
    "flight(<u>flight_id</u>, runs_on_days)\\\n",
    "\\\n",
    "flight_instance(<u>flight_inst_id</u>, capacity, data)\\\n",
    "\\\n",
    "airport(<u>airport_id</u>, name, country)\\\n",
    "\\\n",
    "customer(<u>customer_id</u>, name, address)\\\n",
    "\\\n",
    "instance_of(<u>flight_id</u>, <u>flight_inst_id</u>,\\\n",
    "&nbsp; &nbsp; foreign Key _flight_id_ references _flight_\\\n",
    "&nbsp; &nbsp; foreign Key _flight_inst_id_ references _flight_instance_)\\\n",
    "\\\n",
    "has_schedule(<u>flight_id</u>, <u>airport_id</u>, arrival_dayno, arrival_time, departure_dayno, departure_time\\\n",
    "&nbsp; &nbsp; foreign Key _flight_id_ references _flight_\\\n",
    "&nbsp; &nbsp; foreign Key _airport_id_ references _airport_)\\\n",
    "\\\n",
    "has_status(<u>flight_inst_id</u>, <u>airport_id</u>, arrival_data, arrival_time, departure_date, departure_time\\\n",
    "&nbsp; &nbsp; foreign Key _flight_inst_id_ references _flight_instance_\\\n",
    "&nbsp; &nbsp; foreign Key _airport_id_ references _airport_)\\\n",
    "\\\n",
    "has_traveled(<u>flight_inst_id</u>, <u>customer_id</u>, seat_no\\\n",
    "&nbsp; &nbsp; foreign Key _flight_inst_id_ references _flight_instance_\\\n",
    "&nbsp; &nbsp; foreign Key _customer_id_ references _customer_)"
   ]
  }
 ],
 "metadata": {
  "kernelspec": {
   "display_name": "base",
   "language": "python",
   "name": "python3"
  },
  "language_info": {
   "codemirror_mode": {
    "name": "ipython",
    "version": 3
   },
   "file_extension": ".py",
   "mimetype": "text/x-python",
   "name": "python",
   "nbconvert_exporter": "python",
   "pygments_lexer": "ipython3",
   "version": "3.10.9"
  },
  "orig_nbformat": 4
 },
 "nbformat": 4,
 "nbformat_minor": 2
}
