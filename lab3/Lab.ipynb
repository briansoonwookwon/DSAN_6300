{
 "cells": [
  {
   "cell_type": "markdown",
   "metadata": {},
   "source": [
    "---\n",
    "title: 6300 Lab\n",
    "author: Brian Kwon\n",
    "format:        \n",
    "    html:                \n",
    "        embed-resources: true\n",
    "---"
   ]
  },
  {
   "cell_type": "markdown",
   "metadata": {},
   "source": [
    "Find those sailors who’ve reserved a red and a green boat \n",
    "\n",
    "Step 1 Need to identify\n",
    "1) Sailors who’ve reserved red boats\n",
    "2) Sailors who’ve reserved green boats\n",
    "\n",
    "Step 2: Find the intersection (note that sid is a key for Sailors)"
   ]
  },
  {
   "cell_type": "markdown",
   "metadata": {},
   "source": [
    "$\\Pi_{sname}((\\sigma_{color=\"red\"}Boats)\\bowtie Reserces \\bowtie Sailors) \\cap \\Pi_{sname}((\\sigma_{color=\"green\"}Boats)\\bowtie Reserces \\bowtie Sailors)$"
   ]
  },
  {
   "cell_type": "markdown",
   "metadata": {},
   "source": [
    "Dustin and Lubber reserved a red and a green boat"
   ]
  }
 ],
 "metadata": {
  "kernelspec": {
   "display_name": "R",
   "language": "R",
   "name": "ir"
  },
  "language_info": {
   "codemirror_mode": "r",
   "file_extension": ".r",
   "mimetype": "text/x-r-source",
   "name": "R",
   "pygments_lexer": "r",
   "version": "4.3.1"
  },
  "orig_nbformat": 4
 },
 "nbformat": 4,
 "nbformat_minor": 2
}
