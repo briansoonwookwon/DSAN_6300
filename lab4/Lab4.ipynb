{
 "cells": [
  {
   "cell_type": "markdown",
   "metadata": {},
   "source": [
    "---\n",
    "title: DSAN 6300 Lab 4\n",
    "author: Brian Kwon\n",
    "format:\n",
    "    html:\n",
    "        embed-resources: true\n",
    "---"
   ]
  },
  {
   "cell_type": "markdown",
   "metadata": {},
   "source": [
    "![](lab4.png)"
   ]
  },
  {
   "cell_type": "markdown",
   "metadata": {},
   "source": [
    "customer(<u>customer_id</u>,name,address)\\\n",
    "\\\n",
    "packet(<u>packet_id</u>,weight)\\\n",
    "\\\n",
    "place(<u>place_id</u>,city,country,address)\\\n",
    "\\\n",
    "sends(<u>sender</u>,<u>receiver</u>,<u>packet_id</u>,time_sent,time_received\\\n",
    "&nbsp; &nbsp; foreign key _sender_ references _customer(customer_id)_,\\\n",
    "&nbsp; &nbsp; foreign key _receiver_ references _customer(customer_id)_,\\\n",
    "&nbsp; &nbsp; foreign key _packet_id_ references _packet_)\\\n",
    "\\\n",
    "has_gone_through(<u>packet_id</u>,<u>place_id</u>\\\n",
    "&nbsp; &nbsp; foreign key _packet_id_ references _packet_,\\\n",
    "&nbsp; &nbsp; foreign key _place_id_ references _place_)"
   ]
  }
 ],
 "metadata": {
  "kernelspec": {
   "display_name": "base",
   "language": "python",
   "name": "python3"
  },
  "language_info": {
   "name": "python",
   "version": "3.10.9"
  },
  "orig_nbformat": 4
 },
 "nbformat": 4,
 "nbformat_minor": 2
}
